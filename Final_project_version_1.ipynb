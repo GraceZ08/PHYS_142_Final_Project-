{
 "cells": [
  {
   "cell_type": "code",
   "id": "initial_id",
   "metadata": {
    "collapsed": true,
    "ExecuteTime": {
     "end_time": "2025-03-12T16:29:51.369230Z",
     "start_time": "2025-03-12T16:29:48.902267Z"
    }
   },
   "source": [
    "import numpy as np\n",
    "import matplotlib.pyplot as plt\n",
    "from scipy.sparse import diags\n"
   ],
   "outputs": [],
   "execution_count": 4
  },
  {
   "metadata": {
    "ExecuteTime": {
     "end_time": "2025-03-12T16:29:54.887969Z",
     "start_time": "2025-03-12T16:29:54.884445Z"
    }
   },
   "cell_type": "code",
   "source": [
    "def V(x, alpha):\n",
    "    return alpha*x**4 - 2*x**2 + 1/alpha"
   ],
   "id": "782b758e90922440",
   "outputs": [],
   "execution_count": 5
  },
  {
   "metadata": {
    "ExecuteTime": {
     "end_time": "2025-03-12T16:29:56.869601Z",
     "start_time": "2025-03-12T16:29:56.865973Z"
    }
   },
   "cell_type": "code",
   "source": [
    "alpha = 0.4\n",
    "h_bar = 1\n",
    "m = 1"
   ],
   "id": "e71f7a0ea3923873",
   "outputs": [],
   "execution_count": 6
  },
  {
   "metadata": {},
   "cell_type": "markdown",
   "source": [
    "Problem A\n",
    "\n",
    "$E_0 \\approx \\left\\langle \\frac{m}{2\\,\\delta\\tau}\\,(x_{i+1} - x_i)^2 + \\delta\\tau\\,V\\!\\Bigl(\\frac{x_i + x_{i+1}}{2}\\Bigr)\\right\\rangle = KE + U$\n"
   ],
   "id": "60e42772a1c38d74"
  },
  {
   "metadata": {
    "ExecuteTime": {
     "end_time": "2025-03-12T16:57:19.250947Z",
     "start_time": "2025-03-12T16:57:19.246552Z"
    }
   },
   "cell_type": "code",
   "source": [
    "#Tested Parameters\n",
    "N = 1000 # need test increasing initial config\n",
    "tau_b = 5 # need test 10， 15， 20 large_tau_b\n",
    "burn_in_steps = 2000\n",
    "num_sweep = 20000\n",
    "hit_size = 0.4 #general： from 0.4 to 0.7\n",
    "thinning = 10"
   ],
   "id": "ae090343c4f7d10c",
   "outputs": [],
   "execution_count": 11
  },
  {
   "metadata": {
    "ExecuteTime": {
     "end_time": "2025-03-12T16:58:38.345004Z",
     "start_time": "2025-03-12T16:58:38.338153Z"
    }
   },
   "cell_type": "code",
   "source": [
    "#Idea comes from: S. Mittal, M. J. Westbroek, P. R. King, and D. D. Vvedensky, “Path integral Monte Carlo method for the quantum anharmonic oscillator”, Eur. J. Phys. 41, 055401 (2020).\n",
    "#2] R. Rodgers and L. Raes, Monte Carlo simulations of harmonic and anharmonic oscillators in discrete Euclidean time, DESY Summer Student Programme (2014).\n",
    "\n",
    "# x_i - x_{i-1}\n",
    "# return delta_E\n",
    "def delta_action(x_path, i, x_new, m, dtau):\n",
    "    N = len(x_path)\n",
    "    i_minus = (i - 1) % N\n",
    "    i_plus  = (i + 1) % N\n",
    "\n",
    "    x_old = x_path[i]\n",
    "\n",
    "    # old local: Kinetic + potential midpoint\n",
    "    kin_old = (m/(2*dtau))*((x_path[i_plus] - x_old)**2\n",
    "                           + (x_old - x_path[i_minus])**2)\n",
    "    pot_old = dtau*( V(0.5*(x_old + x_path[i_plus]),alpha)\n",
    "                   + V(0.5*(x_path[i_minus] + x_old),alpha) )\n",
    "\n",
    "    # new local: Kinetic + potential\n",
    "    kin_new = (m/(2*dtau))*((x_path[i_plus] - x_new)**2\n",
    "                           + (x_new - x_path[i_minus])**2)\n",
    "    pot_new = dtau*( V(0.5*(x_new + x_path[i_plus]), alpha)\n",
    "                   + V(0.5*(x_path[i_minus] + x_new), alpha) )\n",
    "\n",
    "    return (kin_new + pot_new) - (kin_old + pot_old)"
   ],
   "id": "3e52850dcb9a6d04",
   "outputs": [],
   "execution_count": 16
  },
  {
   "metadata": {
    "ExecuteTime": {
     "end_time": "2025-03-12T19:32:26.428081Z",
     "start_time": "2025-03-12T19:32:26.420425Z"
    }
   },
   "cell_type": "code",
   "source": [
    "def metropolis_mcmc(N, tau_b, m, num_sweep,\n",
    "                    burn_in_steps, hit_size, thinning):\n",
    "    dtau = tau_b / N\n",
    "    # in paper Rodgers & Raes， in Mittal change step size into param.\n",
    "    #hit_size = 2.0 * np.sqrt(dtau)\n",
    "\n",
    "    x_path = np.zeros(N)\n",
    "\n",
    "    E_list = []\n",
    "    all_x_data = []\n",
    "    accepted = 0\n",
    "\n",
    "    for sweep in range(num_sweep):\n",
    "        for i in range(N):\n",
    "            x_old = x_path[i]\n",
    "            x_prop = x_old + np.random.uniform(-hit_size, hit_size)\n",
    "\n",
    "            dS = delta_action(x_path, i, x_prop, m, dtau)\n",
    "\n",
    "            if dS < 0:\n",
    "                accept = True\n",
    "            else:\n",
    "                r = np.random.rand()\n",
    "                accept = (r < np.exp(-dS))\n",
    "\n",
    "            if accept:\n",
    "                x_path[i] = x_prop\n",
    "                accepted += 1\n",
    "                \n",
    "        if sweep > burn_in_steps and ((sweep - burn_in_steps) % thinning == 0):\n",
    "            # measure energy\n",
    "            kin_sum = 0.0\n",
    "            pot_sum = 0.0\n",
    "            for i in range(N):\n",
    "                i_plus = (i + 1) % N\n",
    "                kin_sum += (m/(2*dtau)) * (x_path[i_plus]-x_path[i])**2\n",
    "                pot_sum += V(0.5*(x_path[i_plus]+x_path[i]), alpha)\n",
    "            E_sample = (kin_sum + dtau*pot_sum) / N\n",
    "            E_list.append(E_sample)\n",
    "\n",
    "            all_x_data.extend(x_path)\n",
    "\n",
    "    accept_rate = accepted / (num_sweep*N)\n",
    "    return E_list, all_x_data, accept_rate"
   ],
   "id": "2bbe6cf9ed8bc09f",
   "outputs": [],
   "execution_count": 20
  },
  {
   "metadata": {
    "ExecuteTime": {
     "end_time": "2025-03-12T19:35:15.960463Z",
     "start_time": "2025-03-12T19:32:47.210589Z"
    }
   },
   "cell_type": "code",
   "source": [
    "E_list, all_x_data, arate = metropolis_mcmc(\n",
    "        N=N, tau_b=tau_b, m=m,\n",
    "        num_sweep=num_sweep, burn_in_steps=burn_in_steps,\n",
    "        thinning=thinning, hit_size=hit_size\n",
    "    )"
   ],
   "id": "1c971e6379726caa",
   "outputs": [],
   "execution_count": 22
  },
  {
   "metadata": {
    "ExecuteTime": {
     "end_time": "2025-03-12T19:35:19.145700Z",
     "start_time": "2025-03-12T19:35:15.967231Z"
    }
   },
   "cell_type": "code",
   "source": [
    "E_mean = np.mean(E_list)\n",
    "E_err  = np.std(E_list)/np.sqrt(len(E_list))\n",
    "\n",
    "print(f\"alpha = {alpha}\")\n",
    "print(f\"Acceptance rate: {arate*100:.1f}%\")\n",
    "print(f\"Estimated ground state energy ~ {E_mean:.4f} ± {E_err:.4f}\")\n",
    "\n",
    "plt.hist(all_x_data, bins=60, density=True, alpha=0.7, color='skyblue')\n",
    "plt.title(f\"Ground State Probability Distribution (alpha={alpha})\")\n",
    "plt.xlabel(\"x\")\n",
    "plt.ylabel(\"P(x)\")\n",
    "plt.grid(alpha=0.3)\n",
    "plt.show()"
   ],
   "id": "9dfe03880200e57d",
   "outputs": [
    {
     "name": "stdout",
     "output_type": "stream",
     "text": [
      "alpha = 0.4\n",
      "Acceptance rate: 19.9%\n",
      "Estimated ground state energy ~ 0.5080 ± 0.0005\n"
     ]
    },
    {
     "data": {
      "text/plain": [
       "<Figure size 640x480 with 1 Axes>"
      ],
      "image/png": "[encoded data removed]"
     },
     "metadata": {},
     "output_type": "display_data"
    }
   ],
   "execution_count": 23
  },
  {
   "metadata": {
    "ExecuteTime": {
     "end_time": "2025-03-12T19:35:19.158128Z",
     "start_time": "2025-03-12T19:35:19.153925Z"
    }
   },
   "cell_type": "code",
   "source": [
    "#Tested Parameters\n",
    "N = 2000 # need test increasing initial config\n",
    "tau_b = 10 # need test 10， 15， 20 large_tau_b\n",
    "burn_in_steps = 5000\n",
    "num_sweep = 20000\n",
    "hit_size = 0.4 #general： from 0.4 to 0.7\n",
    "thinning = 10"
   ],
   "id": "47a3dabf32f949e5",
   "outputs": [],
   "execution_count": 24
  },
  {
   "metadata": {
    "ExecuteTime": {
     "end_time": "2025-03-12T19:40:17.119377Z",
     "start_time": "2025-03-12T19:35:19.166690Z"
    }
   },
   "cell_type": "code",
   "source": [
    "E_list, all_x_data, arate = metropolis_mcmc(\n",
    "        N=N, tau_b=tau_b, m=m,\n",
    "        num_sweep=num_sweep, burn_in_steps=burn_in_steps,\n",
    "        thinning=thinning, hit_size=hit_size\n",
    "    )"
   ],
   "id": "d35dc198ed6d2750",
   "outputs": [],
   "execution_count": 25
  },
  {
   "metadata": {
    "ExecuteTime": {
     "end_time": "2025-03-12T19:40:22.526976Z",
     "start_time": "2025-03-12T19:40:17.128317Z"
    }
   },
   "cell_type": "code",
   "source": [
    "E_mean = np.mean(E_list)\n",
    "E_err  = np.std(E_list)/np.sqrt(len(E_list))\n",
    "\n",
    "print(f\"alpha = {alpha}\")\n",
    "print(f\"Acceptance rate: {arate*100:.1f}%\")\n",
    "print(f\"Estimated ground state energy ~ {E_mean:.4f} ± {E_err:.4f}\")\n",
    "\n",
    "plt.hist(all_x_data, bins=60, density=True, alpha=0.7, color='skyblue')\n",
    "plt.title(f\"Ground State Probability Distribution (alpha={alpha})\")\n",
    "plt.xlabel(\"x\")\n",
    "plt.ylabel(\"P(x)\")\n",
    "plt.grid(alpha=0.3)\n",
    "plt.show()"
   ],
   "id": "e4dc0f23f537e3d6",
   "outputs": [
    {
     "name": "stdout",
     "output_type": "stream",
     "text": [
      "alpha = 0.4\n",
      "Acceptance rate: 19.9%\n",
      "Estimated ground state energy ~ 0.5101 ± 0.0004\n"
     ]
    },
    {
     "data": {
      "text/plain": [
       "<Figure size 640x480 with 1 Axes>"
      ],
      "image/png": "[encoded data removed]"
     },
     "metadata": {},
     "output_type": "display_data"
    }
   ],
   "execution_count": 26
  },
  {
   "metadata": {
    "ExecuteTime": {
     "end_time": "2025-03-12T19:40:22.539753Z",
     "start_time": "2025-03-12T19:40:22.535218Z"
    }
   },
   "cell_type": "code",
   "source": [
    "#Tested Parameters\n",
    "N = 500 # need test increasing initial config\n",
    "# For large N, it takes a lot of time to process\n",
    "tau_b = 10 # need test 10， 15， 20 large_tau_b\n",
    "burn_in_steps = 5000\n",
    "num_sweep = 20000\n",
    "hit_size = 0.4 #general： from 0.4 to 0.7\n",
    "thinning = 10"
   ],
   "id": "a797794e5bce888d",
   "outputs": [],
   "execution_count": 27
  },
  {
   "metadata": {
    "ExecuteTime": {
     "end_time": "2025-03-12T19:41:38.503909Z",
     "start_time": "2025-03-12T19:40:22.569440Z"
    }
   },
   "cell_type": "code",
   "source": [
    "E_list, all_x_data, arate = metropolis_mcmc(\n",
    "        N=N, tau_b=tau_b, m=m,\n",
    "        num_sweep=num_sweep, burn_in_steps=burn_in_steps,\n",
    "        thinning=thinning, hit_size=hit_size\n",
    "    )"
   ],
   "id": "46421c7e7406a7c6",
   "outputs": [],
   "execution_count": 28
  },
  {
   "metadata": {
    "ExecuteTime": {
     "end_time": "2025-03-12T19:41:39.856461Z",
     "start_time": "2025-03-12T19:41:38.509196Z"
    }
   },
   "cell_type": "code",
   "source": [
    "E_mean = np.mean(E_list)\n",
    "E_err  = np.std(E_list)/np.sqrt(len(E_list))\n",
    "\n",
    "print(f\"alpha = {alpha}\")\n",
    "print(f\"Acceptance rate: {arate*100:.1f}%\")\n",
    "print(f\"Estimated ground state energy ~ {E_mean:.4f} ± {E_err:.4f}\")\n",
    "\n",
    "plt.hist(all_x_data, bins=60, density=True, alpha=0.7, color='skyblue')\n",
    "plt.title(f\"Ground State Probability Distribution (alpha={alpha})\")\n",
    "plt.xlabel(\"x\")\n",
    "plt.ylabel(\"P(x)\")\n",
    "plt.grid(alpha=0.3)\n",
    "plt.show()"
   ],
   "id": "66462931d7cbeb21",
   "outputs": [
    {
     "name": "stdout",
     "output_type": "stream",
     "text": [
      "alpha = 0.4\n",
      "Acceptance rate: 39.1%\n",
      "Estimated ground state energy ~ 0.5254 ± 0.0008\n"
     ]
    },
    {
     "data": {
      "text/plain": [
       "<Figure size 640x480 with 1 Axes>"
      ],
      "image/png": "[encoded data removed]"
     },
     "metadata": {},
     "output_type": "display_data"
    }
   ],
   "execution_count": 29
  },
  {
   "metadata": {
    "ExecuteTime": {
     "end_time": "2025-03-12T19:46:40.721922Z",
     "start_time": "2025-03-12T19:46:40.717389Z"
    }
   },
   "cell_type": "code",
   "source": [
    "#Tested Parameters\n",
    "# I decreased hit_size to make sure it is not too large than 10/2000 = 0.005， which can increase the acceptance rate\n",
    "N = 2000 # need test increasing initial config\n",
    "tau_b = 10 # need test 10， 15， 20 large_tau_b\n",
    "burn_in_steps = 5000\n",
    "num_sweep = 20000\n",
    "hit_size = 0.2 #general： from 0.4 to 0.7\n",
    "thinning = 10"
   ],
   "id": "562009f9b00925de",
   "outputs": [],
   "execution_count": 30
  },
  {
   "metadata": {
    "ExecuteTime": {
     "end_time": "2025-03-12T19:51:47.732356Z",
     "start_time": "2025-03-12T19:46:49.379158Z"
    }
   },
   "cell_type": "code",
   "source": [
    "E_list, all_x_data, arate = metropolis_mcmc(\n",
    "        N=N, tau_b=tau_b, m=m,\n",
    "        num_sweep=num_sweep, burn_in_steps=burn_in_steps,\n",
    "        thinning=thinning, hit_size=hit_size\n",
    "    )"
   ],
   "id": "447a9b0940d7f923",
   "outputs": [],
   "execution_count": 31
  },
  {
   "metadata": {
    "ExecuteTime": {
     "end_time": "2025-03-12T19:51:54.531838Z",
     "start_time": "2025-03-12T19:51:47.738133Z"
    }
   },
   "cell_type": "code",
   "source": [
    "E_mean = np.mean(E_list)\n",
    "E_err  = np.std(E_list)/np.sqrt(len(E_list))\n",
    "\n",
    "print(f\"alpha = {alpha}\")\n",
    "print(f\"Acceptance rate: {arate*100:.1f}%\")\n",
    "print(f\"Estimated ground state energy ~ {E_mean:.4f} ± {E_err:.4f}\")\n",
    "\n",
    "plt.hist(all_x_data, bins=60, density=True, alpha=0.7, color='skyblue')\n",
    "plt.title(f\"Ground State Probability Distribution (alpha={alpha})\")\n",
    "plt.xlabel(\"x\")\n",
    "plt.ylabel(\"P(x)\")\n",
    "plt.grid(alpha=0.3)\n",
    "plt.show()"
   ],
   "id": "ee072fdf408ac38a",
   "outputs": [
    {
     "name": "stdout",
     "output_type": "stream",
     "text": [
      "alpha = 0.4\n",
      "Acceptance rate: 39.1%\n",
      "Estimated ground state energy ~ 0.5084 ± 0.0004\n"
     ]
    },
    {
     "data": {
      "text/plain": [
       "<Figure size 640x480 with 1 Axes>"
      ],
      "image/png": "[encoded data removed]"
     },
     "metadata": {},
     "output_type": "display_data"
    }
   ],
   "execution_count": 32
  },
  {
   "metadata": {
    "ExecuteTime": {
     "end_time": "2025-03-12T19:53:07.185248Z",
     "start_time": "2025-03-12T19:53:07.181733Z"
    }
   },
   "cell_type": "code",
   "source": [
    "#Tested Parameters: Looks the best param\n",
    "# I decreased hit_size to make sure it is not too large for 10/2000 = 0.005， which can increase the acceptance rate\n",
    "N = 4000 # need test increasing initial config\n",
    "tau_b = 20 # need test 10， 15， 20 large_tau_b\n",
    "burn_in_steps = 5000\n",
    "num_sweep = 20000\n",
    "hit_size = 0.1 #general： from 0.4 to 0.7\n",
    "thinning = 10"
   ],
   "id": "26bc9465740f1c68",
   "outputs": [],
   "execution_count": 33
  },
  {
   "metadata": {
    "ExecuteTime": {
     "end_time": "2025-03-12T20:03:32.153723Z",
     "start_time": "2025-03-12T19:53:20.831533Z"
    }
   },
   "cell_type": "code",
   "source": [
    "E_list, all_x_data, arate = metropolis_mcmc(\n",
    "        N=N, tau_b=tau_b, m=m,\n",
    "        num_sweep=num_sweep, burn_in_steps=burn_in_steps,\n",
    "        thinning=thinning, hit_size=hit_size\n",
    "    )\n",
    "\n",
    "E_mean = np.mean(E_list)\n",
    "E_err  = np.std(E_list)/np.sqrt(len(E_list))\n",
    "\n",
    "print(f\"alpha = {alpha}\")\n",
    "print(f\"Acceptance rate: {arate*100:.1f}%\")\n",
    "print(f\"Estimated ground state energy ~ {E_mean:.4f} ± {E_err:.4f}\")\n",
    "\n",
    "plt.hist(all_x_data, bins=60, density=True, alpha=0.7, color='skyblue')\n",
    "plt.title(f\"Ground State Probability Distribution (alpha={alpha})\")\n",
    "plt.xlabel(\"x\")\n",
    "plt.ylabel(\"P(x)\")\n",
    "plt.grid(alpha=0.3)\n",
    "plt.show()"
   ],
   "id": "c46baef1345b443b",
   "outputs": [
    {
     "name": "stdout",
     "output_type": "stream",
     "text": [
      "alpha = 0.4\n",
      "Acceptance rate: 63.1%\n",
      "Estimated ground state energy ~ 0.5088 ± 0.0003\n"
     ]
    },
    {
     "data": {
      "text/plain": [
       "<Figure size 640x480 with 1 Axes>"
      ],
      "image/png": "[encoded data removed]"
     },
     "metadata": {},
     "output_type": "display_data"
    }
   ],
   "execution_count": 34
  },
  {
   "metadata": {},
   "cell_type": "markdown",
   "source": [
    "Problem B:\n",
    "\n"
   ],
   "id": "bc6c12b33d9bfc94"
  }
 ],
 "metadata": {
  "kernelspec": {
   "display_name": "Python 3",
   "language": "python",
   "name": "python3"
  },
  "language_info": {
   "codemirror_mode": {
    "name": "ipython",
    "version": 2
   },
   "file_extension": ".py",
   "mimetype": "text/x-python",
   "name": "python",
   "nbconvert_exporter": "python",
   "pygments_lexer": "ipython2",
   "version": "2.7.6"
  }
 },
 "nbformat": 4,
 "nbformat_minor": 5
}
